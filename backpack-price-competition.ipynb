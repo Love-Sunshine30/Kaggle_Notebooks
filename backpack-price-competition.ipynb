{
 "cells": [
  {
   "cell_type": "code",
   "execution_count": 1,
   "id": "f81ebe8f",
   "metadata": {
    "_cell_guid": "b1076dfc-b9ad-4769-8c92-a6c4dae69d19",
    "_uuid": "8f2839f25d086af736a60e9eeb907d3b93b6e0e5",
    "execution": {
     "iopub.execute_input": "2025-03-19T20:03:02.222176Z",
     "iopub.status.busy": "2025-03-19T20:03:02.221750Z",
     "iopub.status.idle": "2025-03-19T20:03:03.291035Z",
     "shell.execute_reply": "2025-03-19T20:03:03.289681Z"
    },
    "papermill": {
     "duration": 1.074977,
     "end_time": "2025-03-19T20:03:03.292902",
     "exception": false,
     "start_time": "2025-03-19T20:03:02.217925",
     "status": "completed"
    },
    "tags": []
   },
   "outputs": [
    {
     "name": "stdout",
     "output_type": "stream",
     "text": [
      "/kaggle/input/playground-series-s5e2/sample_submission.csv\n",
      "/kaggle/input/playground-series-s5e2/train.csv\n",
      "/kaggle/input/playground-series-s5e2/test.csv\n",
      "/kaggle/input/playground-series-s5e2/training_extra.csv\n"
     ]
    }
   ],
   "source": [
    "# This Python 3 environment comes with many helpful analytics libraries installed\n",
    "# It is defined by the kaggle/python Docker image: https://github.com/kaggle/docker-python\n",
    "# For example, here's several helpful packages to load\n",
    "\n",
    "import numpy as np # linear algebra\n",
    "import pandas as pd # data processing, CSV file I/O (e.g. pd.read_csv)\n",
    "\n",
    "# Input data files are available in the read-only \"../input/\" directory\n",
    "# For example, running this (by clicking run or pressing Shift+Enter) will list all files under the input directory\n",
    "\n",
    "import os\n",
    "for dirname, _, filenames in os.walk('/kaggle/input'):\n",
    "    for filename in filenames:\n",
    "        print(os.path.join(dirname, filename))\n",
    "\n",
    "# You can write up to 20GB to the current directory (/kaggle/working/) that gets preserved as output when you create a version using \"Save & Run All\" \n",
    "# You can also write temporary files to /kaggle/temp/, but they won't be saved outside of the current session"
   ]
  },
  {
   "cell_type": "code",
   "execution_count": 2,
   "id": "edc7faca",
   "metadata": {
    "execution": {
     "iopub.execute_input": "2025-03-19T20:03:03.299026Z",
     "iopub.status.busy": "2025-03-19T20:03:03.298515Z",
     "iopub.status.idle": "2025-03-19T20:03:04.685426Z",
     "shell.execute_reply": "2025-03-19T20:03:04.684507Z"
    },
    "papermill": {
     "duration": 1.39184,
     "end_time": "2025-03-19T20:03:04.687471",
     "exception": false,
     "start_time": "2025-03-19T20:03:03.295631",
     "status": "completed"
    },
    "tags": []
   },
   "outputs": [],
   "source": [
    "#Data loading\n",
    "train_path = '/kaggle/input/playground-series-s5e2/train.csv'\n",
    "test_path = '/kaggle/input/playground-series-s5e2/test.csv'\n",
    "\n",
    "train_full = pd.read_csv(train_path)\n",
    "test_full = pd.read_csv(test_path)\n",
    "\n",
    "#separating feature and target\n",
    "train_full.dropna(axis=0, subset=['Price'], inplace=True)\n",
    "y = train_full['Price']\n",
    "X = train_full.drop(columns='Price')\n",
    "\n",
    "#separating the right columns\n",
    "numerical_cols = [col for col in X.columns\n",
    "                 if X[col].dtype in ['int64','float']]\n",
    "categorical_cols = [col for col in X.columns\n",
    "                   if X[col].nunique() < 10 and X[col].dtype == 'object']\n",
    "right_cols = numerical_cols + categorical_cols\n",
    "X = X[right_cols].copy()\n",
    "test = test_full[right_cols].copy()\n"
   ]
  },
  {
   "cell_type": "code",
   "execution_count": 3,
   "id": "ba66c24b",
   "metadata": {
    "execution": {
     "iopub.execute_input": "2025-03-19T20:03:04.693061Z",
     "iopub.status.busy": "2025-03-19T20:03:04.692667Z",
     "iopub.status.idle": "2025-03-19T20:03:07.176568Z",
     "shell.execute_reply": "2025-03-19T20:03:07.175524Z"
    },
    "papermill": {
     "duration": 2.488768,
     "end_time": "2025-03-19T20:03:07.178468",
     "exception": false,
     "start_time": "2025-03-19T20:03:04.689700",
     "status": "completed"
    },
    "tags": []
   },
   "outputs": [],
   "source": [
    "from sklearn.model_selection import train_test_split\n",
    "from sklearn.pipeline import Pipeline\n",
    "from sklearn.impute import SimpleImputer\n",
    "from sklearn.preprocessing import OneHotEncoder\n",
    "from sklearn.compose import ColumnTransformer\n",
    "from sklearn.ensemble import RandomForestRegressor\n",
    "from xgboost import XGBRegressor\n",
    "\n",
    "#spliting training and validation data\n",
    "X_train, X_valid, y_train, y_valid = train_test_split(X, y, test_size=0.2, random_state=1)\n",
    "\n",
    "#Creating the pipeline\n",
    "numerical_transformer = SimpleImputer(strategy='mean')\n",
    "categorical_transformer = Pipeline(steps=[\n",
    "    ('impute', SimpleImputer(strategy='most_frequent')),\n",
    "    ('one_hot', OneHotEncoder(handle_unknown='ignore'))\n",
    "])\n",
    "transformer = ColumnTransformer(transformers=[\n",
    "    ('num', numerical_transformer, numerical_cols),\n",
    "    ('cat', categorical_transformer, categorical_cols)\n",
    "])\n",
    "\n",
    "model = XGBRegressor(n_estimators=50, learning_rate=0.01)\n",
    "my_pipeline = Pipeline(steps=[\n",
    "    ('preprocess', transformer),\n",
    "    ('model', model)\n",
    "])"
   ]
  },
  {
   "cell_type": "code",
   "execution_count": 4,
   "id": "9d010671",
   "metadata": {
    "execution": {
     "iopub.execute_input": "2025-03-19T20:03:07.184324Z",
     "iopub.status.busy": "2025-03-19T20:03:07.183668Z",
     "iopub.status.idle": "2025-03-19T20:03:10.420843Z",
     "shell.execute_reply": "2025-03-19T20:03:10.419526Z"
    },
    "papermill": {
     "duration": 3.242737,
     "end_time": "2025-03-19T20:03:10.423423",
     "exception": false,
     "start_time": "2025-03-19T20:03:07.180686",
     "status": "completed"
    },
    "tags": []
   },
   "outputs": [],
   "source": [
    "from sklearn.metrics import mean_squared_error\n",
    "from sklearn.model_selection import cross_val_score\n",
    "\n",
    "my_pipeline.fit(X, y)\n",
    "preds = my_pipeline.predict(test)\n",
    "\n",
    "output = pd.DataFrame({'id':test['id'], 'Price': preds})\n",
    "output.to_csv('submission.csv', index=False)\n"
   ]
  }
 ],
 "metadata": {
  "kaggle": {
   "accelerator": "none",
   "dataSources": [
    {
     "databundleVersionId": 10995111,
     "sourceId": 90274,
     "sourceType": "competition"
    }
   ],
   "dockerImageVersionId": 30918,
   "isGpuEnabled": false,
   "isInternetEnabled": false,
   "language": "python",
   "sourceType": "notebook"
  },
  "kernelspec": {
   "display_name": "Python 3",
   "language": "python",
   "name": "python3"
  },
  "language_info": {
   "codemirror_mode": {
    "name": "ipython",
    "version": 3
   },
   "file_extension": ".py",
   "mimetype": "text/x-python",
   "name": "python",
   "nbconvert_exporter": "python",
   "pygments_lexer": "ipython3",
   "version": "3.10.12"
  },
  "papermill": {
   "default_parameters": {},
   "duration": 11.922292,
   "end_time": "2025-03-19T20:03:11.248274",
   "environment_variables": {},
   "exception": null,
   "input_path": "__notebook__.ipynb",
   "output_path": "__notebook__.ipynb",
   "parameters": {},
   "start_time": "2025-03-19T20:02:59.325982",
   "version": "2.6.0"
  }
 },
 "nbformat": 4,
 "nbformat_minor": 5
}
