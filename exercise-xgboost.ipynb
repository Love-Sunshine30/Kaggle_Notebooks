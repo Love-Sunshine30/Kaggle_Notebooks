{
 "cells": [
  {
   "cell_type": "markdown",
   "id": "96745702",
   "metadata": {
    "papermill": {
     "duration": 0.004479,
     "end_time": "2025-03-19T13:48:37.216380",
     "exception": false,
     "start_time": "2025-03-19T13:48:37.211901",
     "status": "completed"
    },
    "tags": []
   },
   "source": [
    "**This notebook is an exercise in the [Intermediate Machine Learning](https://www.kaggle.com/learn/intermediate-machine-learning) course.  You can reference the tutorial at [this link](https://www.kaggle.com/alexisbcook/xgboost).**\n",
    "\n",
    "---\n"
   ]
  },
  {
   "cell_type": "markdown",
   "id": "0923fe0e",
   "metadata": {
    "papermill": {
     "duration": 0.003442,
     "end_time": "2025-03-19T13:48:37.223799",
     "exception": false,
     "start_time": "2025-03-19T13:48:37.220357",
     "status": "completed"
    },
    "tags": []
   },
   "source": [
    "In this exercise, you will use your new knowledge to train a model with **gradient boosting**.\n",
    "\n",
    "# Setup\n",
    "\n",
    "The questions below will give you feedback on your work. Run the following cell to set up the feedback system."
   ]
  },
  {
   "cell_type": "code",
   "execution_count": 1,
   "id": "1ee91b49",
   "metadata": {
    "execution": {
     "iopub.execute_input": "2025-03-19T13:48:37.232299Z",
     "iopub.status.busy": "2025-03-19T13:48:37.231973Z",
     "iopub.status.idle": "2025-03-19T13:48:40.299018Z",
     "shell.execute_reply": "2025-03-19T13:48:40.297809Z"
    },
    "papermill": {
     "duration": 3.073233,
     "end_time": "2025-03-19T13:48:40.300689",
     "exception": false,
     "start_time": "2025-03-19T13:48:37.227456",
     "status": "completed"
    },
    "tags": []
   },
   "outputs": [
    {
     "name": "stdout",
     "output_type": "stream",
     "text": [
      "Setup Complete\n"
     ]
    }
   ],
   "source": [
    "# Set up code checking\n",
    "import os\n",
    "if not os.path.exists(\"../input/train.csv\"):\n",
    "    os.symlink(\"../input/home-data-for-ml-course/train.csv\", \"../input/train.csv\")  \n",
    "    os.symlink(\"../input/home-data-for-ml-course/test.csv\", \"../input/test.csv\") \n",
    "from learntools.core import binder\n",
    "binder.bind(globals())\n",
    "from learntools.ml_intermediate.ex6 import *\n",
    "print(\"Setup Complete\")"
   ]
  },
  {
   "cell_type": "markdown",
   "id": "cd9a3232",
   "metadata": {
    "papermill": {
     "duration": 0.003699,
     "end_time": "2025-03-19T13:48:40.308493",
     "exception": false,
     "start_time": "2025-03-19T13:48:40.304794",
     "status": "completed"
    },
    "tags": []
   },
   "source": [
    "You will work with the [Housing Prices Competition for Kaggle Learn Users](https://www.kaggle.com/c/home-data-for-ml-course) dataset from the previous exercise. \n",
    "\n",
    "![Ames Housing dataset image](https://storage.googleapis.com/kaggle-media/learn/images/lTJVG4e.png)\n",
    "\n",
    "Run the next code cell without changes to load the training and validation sets in `X_train`, `X_valid`, `y_train`, and `y_valid`.  The test set is loaded in `X_test`."
   ]
  },
  {
   "cell_type": "code",
   "execution_count": 2,
   "id": "b1ae6196",
   "metadata": {
    "execution": {
     "iopub.execute_input": "2025-03-19T13:48:40.317252Z",
     "iopub.status.busy": "2025-03-19T13:48:40.316957Z",
     "iopub.status.idle": "2025-03-19T13:48:40.454933Z",
     "shell.execute_reply": "2025-03-19T13:48:40.453992Z"
    },
    "papermill": {
     "duration": 0.144521,
     "end_time": "2025-03-19T13:48:40.456828",
     "exception": false,
     "start_time": "2025-03-19T13:48:40.312307",
     "status": "completed"
    },
    "tags": []
   },
   "outputs": [],
   "source": [
    "import pandas as pd\n",
    "from sklearn.model_selection import train_test_split\n",
    "\n",
    "# Read the data\n",
    "X = pd.read_csv('../input/train.csv', index_col='Id')\n",
    "X_test_full = pd.read_csv('../input/test.csv', index_col='Id')\n",
    "\n",
    "# Remove rows with missing target, separate target from predictors\n",
    "X.dropna(axis=0, subset=['SalePrice'], inplace=True)\n",
    "y = X.SalePrice              \n",
    "X.drop(['SalePrice'], axis=1, inplace=True)\n",
    "\n",
    "# Break off validation set from training data\n",
    "X_train_full, X_valid_full, y_train, y_valid = train_test_split(X, y, train_size=0.8, test_size=0.2,\n",
    "                                                                random_state=0)\n",
    "\n",
    "# \"Cardinality\" means the number of unique values in a column\n",
    "# Select categorical columns with relatively low cardinality (convenient but arbitrary)\n",
    "low_cardinality_cols = [cname for cname in X_train_full.columns if X_train_full[cname].nunique() < 10 and \n",
    "                        X_train_full[cname].dtype == \"object\"]\n",
    "\n",
    "# Select numeric columns\n",
    "numeric_cols = [cname for cname in X_train_full.columns if X_train_full[cname].dtype in ['int64', 'float64']]\n",
    "\n",
    "# Keep selected columns only\n",
    "my_cols = low_cardinality_cols + numeric_cols\n",
    "X_train = X_train_full[my_cols].copy()\n",
    "X_valid = X_valid_full[my_cols].copy()\n",
    "X_test = X_test_full[my_cols].copy()\n",
    "\n",
    "# One-hot encode the data (to shorten the code, we use pandas)\n",
    "X_train = pd.get_dummies(X_train)\n",
    "X_valid = pd.get_dummies(X_valid)\n",
    "X_test = pd.get_dummies(X_test)\n",
    "X_train, X_valid = X_train.align(X_valid, join='left', axis=1)\n",
    "X_train, X_test = X_train.align(X_test, join='left', axis=1)"
   ]
  },
  {
   "cell_type": "markdown",
   "id": "9493eb54",
   "metadata": {
    "papermill": {
     "duration": 0.003737,
     "end_time": "2025-03-19T13:48:40.464717",
     "exception": false,
     "start_time": "2025-03-19T13:48:40.460980",
     "status": "completed"
    },
    "tags": []
   },
   "source": [
    "# Step 1: Build model\n",
    "\n",
    "### Part A\n",
    "\n",
    "In this step, you'll build and train your first model with gradient boosting.\n",
    "\n",
    "- Begin by setting `my_model_1` to an XGBoost model.  Use the [XGBRegressor](https://xgboost.readthedocs.io/en/latest/python/python_api.html#xgboost.XGBRegressor) class, and set the random seed to 0 (`random_state=0`).  **Leave all other parameters as default.**\n",
    "- Then, fit the model to the training data in `X_train` and `y_train`."
   ]
  },
  {
   "cell_type": "code",
   "execution_count": 3,
   "id": "12771d2e",
   "metadata": {
    "execution": {
     "iopub.execute_input": "2025-03-19T13:48:40.473443Z",
     "iopub.status.busy": "2025-03-19T13:48:40.473139Z",
     "iopub.status.idle": "2025-03-19T13:48:40.892375Z",
     "shell.execute_reply": "2025-03-19T13:48:40.891476Z"
    },
    "papermill": {
     "duration": 0.42521,
     "end_time": "2025-03-19T13:48:40.893750",
     "exception": false,
     "start_time": "2025-03-19T13:48:40.468540",
     "status": "completed"
    },
    "tags": []
   },
   "outputs": [
    {
     "data": {
      "application/javascript": [
       "parent.postMessage({\"jupyterEvent\": \"custom.exercise_interaction\", \"data\": {\"outcomeType\": 1, \"valueTowardsCompletion\": 0.5, \"interactionType\": 1, \"questionType\": 2, \"questionId\": \"1.1_Model1A\", \"learnToolsVersion\": \"0.3.4\", \"failureMessage\": \"\", \"exceptionClass\": \"\", \"trace\": \"\"}}, \"*\")"
      ],
      "text/plain": [
       "<IPython.core.display.Javascript object>"
      ]
     },
     "metadata": {},
     "output_type": "display_data"
    },
    {
     "data": {
      "text/markdown": [
       "<span style=\"color:#33cc33\">Correct</span>"
      ],
      "text/plain": [
       "Correct"
      ]
     },
     "metadata": {},
     "output_type": "display_data"
    }
   ],
   "source": [
    "from xgboost import XGBRegressor\n",
    "\n",
    "# Define the model\n",
    "my_model_1 = XGBRegressor(random_state=0)\n",
    "\n",
    "# Fit the model\n",
    "my_model_1.fit(X_train, y_train)\n",
    "\n",
    "# Check your answer\n",
    "step_1.a.check()"
   ]
  },
  {
   "cell_type": "code",
   "execution_count": 4,
   "id": "03528375",
   "metadata": {
    "execution": {
     "iopub.execute_input": "2025-03-19T13:48:40.903184Z",
     "iopub.status.busy": "2025-03-19T13:48:40.902871Z",
     "iopub.status.idle": "2025-03-19T13:48:40.906345Z",
     "shell.execute_reply": "2025-03-19T13:48:40.905487Z"
    },
    "papermill": {
     "duration": 0.009791,
     "end_time": "2025-03-19T13:48:40.907835",
     "exception": false,
     "start_time": "2025-03-19T13:48:40.898044",
     "status": "completed"
    },
    "tags": []
   },
   "outputs": [],
   "source": [
    "# Lines below will give you a hint or solution code\n",
    "#step_1.a.hint()\n",
    "#step_1.a.solution()"
   ]
  },
  {
   "cell_type": "markdown",
   "id": "7ee26853",
   "metadata": {
    "papermill": {
     "duration": 0.003924,
     "end_time": "2025-03-19T13:48:40.916006",
     "exception": false,
     "start_time": "2025-03-19T13:48:40.912082",
     "status": "completed"
    },
    "tags": []
   },
   "source": [
    "### Part B\n",
    "\n",
    "Set `predictions_1` to the model's predictions for the validation data.  Recall that the validation features are stored in `X_valid`."
   ]
  },
  {
   "cell_type": "code",
   "execution_count": 5,
   "id": "bb5d2819",
   "metadata": {
    "execution": {
     "iopub.execute_input": "2025-03-19T13:48:40.925081Z",
     "iopub.status.busy": "2025-03-19T13:48:40.924761Z",
     "iopub.status.idle": "2025-03-19T13:48:40.957987Z",
     "shell.execute_reply": "2025-03-19T13:48:40.955678Z"
    },
    "papermill": {
     "duration": 0.039352,
     "end_time": "2025-03-19T13:48:40.959365",
     "exception": false,
     "start_time": "2025-03-19T13:48:40.920013",
     "status": "completed"
    },
    "tags": []
   },
   "outputs": [
    {
     "data": {
      "application/javascript": [
       "parent.postMessage({\"jupyterEvent\": \"custom.exercise_interaction\", \"data\": {\"outcomeType\": 1, \"valueTowardsCompletion\": 0.5, \"interactionType\": 1, \"questionType\": 2, \"questionId\": \"1.2_Model1B\", \"learnToolsVersion\": \"0.3.4\", \"failureMessage\": \"\", \"exceptionClass\": \"\", \"trace\": \"\"}}, \"*\")"
      ],
      "text/plain": [
       "<IPython.core.display.Javascript object>"
      ]
     },
     "metadata": {},
     "output_type": "display_data"
    },
    {
     "data": {
      "text/markdown": [
       "<span style=\"color:#33cc33\">Correct</span>"
      ],
      "text/plain": [
       "Correct"
      ]
     },
     "metadata": {},
     "output_type": "display_data"
    }
   ],
   "source": [
    "from sklearn.metrics import mean_absolute_error\n",
    "\n",
    "# Get predictions\n",
    "predictions_1 = my_model_1.predict(X_valid)\n",
    "\n",
    "# Check your answer\n",
    "step_1.b.check()"
   ]
  },
  {
   "cell_type": "code",
   "execution_count": 6,
   "id": "1a84fd87",
   "metadata": {
    "execution": {
     "iopub.execute_input": "2025-03-19T13:48:40.969395Z",
     "iopub.status.busy": "2025-03-19T13:48:40.969068Z",
     "iopub.status.idle": "2025-03-19T13:48:40.972941Z",
     "shell.execute_reply": "2025-03-19T13:48:40.971790Z"
    },
    "papermill": {
     "duration": 0.01062,
     "end_time": "2025-03-19T13:48:40.974497",
     "exception": false,
     "start_time": "2025-03-19T13:48:40.963877",
     "status": "completed"
    },
    "tags": []
   },
   "outputs": [],
   "source": [
    "# Lines below will give you a hint or solution code\n",
    "#step_1.b.hint()\n",
    "#step_1.b.solution()"
   ]
  },
  {
   "cell_type": "markdown",
   "id": "2d014d9f",
   "metadata": {
    "papermill": {
     "duration": 0.004131,
     "end_time": "2025-03-19T13:48:40.983237",
     "exception": false,
     "start_time": "2025-03-19T13:48:40.979106",
     "status": "completed"
    },
    "tags": []
   },
   "source": [
    "### Part C\n",
    "\n",
    "Finally, use the `mean_absolute_error()` function to calculate the mean absolute error (MAE) corresponding to the predictions for the validation set.  Recall that the labels for the validation data are stored in `y_valid`."
   ]
  },
  {
   "cell_type": "code",
   "execution_count": 7,
   "id": "921133a8",
   "metadata": {
    "execution": {
     "iopub.execute_input": "2025-03-19T13:48:40.993208Z",
     "iopub.status.busy": "2025-03-19T13:48:40.992884Z",
     "iopub.status.idle": "2025-03-19T13:48:41.001420Z",
     "shell.execute_reply": "2025-03-19T13:48:41.000638Z"
    },
    "papermill": {
     "duration": 0.015045,
     "end_time": "2025-03-19T13:48:41.002770",
     "exception": false,
     "start_time": "2025-03-19T13:48:40.987725",
     "status": "completed"
    },
    "tags": []
   },
   "outputs": [
    {
     "name": "stdout",
     "output_type": "stream",
     "text": [
      "Mean Absolute Error: 18161.82412510702\n"
     ]
    },
    {
     "data": {
      "application/javascript": [
       "parent.postMessage({\"jupyterEvent\": \"custom.exercise_interaction\", \"data\": {\"outcomeType\": 1, \"valueTowardsCompletion\": 0.5, \"interactionType\": 1, \"questionType\": 2, \"questionId\": \"1.3_Model1C\", \"learnToolsVersion\": \"0.3.4\", \"failureMessage\": \"\", \"exceptionClass\": \"\", \"trace\": \"\"}}, \"*\")"
      ],
      "text/plain": [
       "<IPython.core.display.Javascript object>"
      ]
     },
     "metadata": {},
     "output_type": "display_data"
    },
    {
     "data": {
      "text/markdown": [
       "<span style=\"color:#33cc33\">Correct</span>"
      ],
      "text/plain": [
       "Correct"
      ]
     },
     "metadata": {},
     "output_type": "display_data"
    }
   ],
   "source": [
    "# Calculate MAE\n",
    "mae_1 = mean_absolute_error(y_valid, predictions_1)\n",
    "\n",
    "# Uncomment to print MAE\n",
    "print(\"Mean Absolute Error:\" , mae_1)\n",
    "\n",
    "# Check your answer\n",
    "step_1.c.check()"
   ]
  },
  {
   "cell_type": "code",
   "execution_count": 8,
   "id": "720a92d1",
   "metadata": {
    "execution": {
     "iopub.execute_input": "2025-03-19T13:48:41.013425Z",
     "iopub.status.busy": "2025-03-19T13:48:41.013100Z",
     "iopub.status.idle": "2025-03-19T13:48:41.016515Z",
     "shell.execute_reply": "2025-03-19T13:48:41.015669Z"
    },
    "papermill": {
     "duration": 0.010497,
     "end_time": "2025-03-19T13:48:41.018021",
     "exception": false,
     "start_time": "2025-03-19T13:48:41.007524",
     "status": "completed"
    },
    "tags": []
   },
   "outputs": [],
   "source": [
    "# Lines below will give you a hint or solution code\n",
    "#step_1.c.hint()\n",
    "#step_1.c.solution()"
   ]
  },
  {
   "cell_type": "markdown",
   "id": "fe3705ed",
   "metadata": {
    "papermill": {
     "duration": 0.004575,
     "end_time": "2025-03-19T13:48:41.027433",
     "exception": false,
     "start_time": "2025-03-19T13:48:41.022858",
     "status": "completed"
    },
    "tags": []
   },
   "source": [
    "# Step 2: Improve the model\n",
    "\n",
    "Now that you've trained a default model as baseline, it's time to tinker with the parameters, to see if you can get better performance!\n",
    "- Begin by setting `my_model_2` to an XGBoost model, using the [XGBRegressor](https://xgboost.readthedocs.io/en/latest/python/python_api.html#xgboost.XGBRegressor) class.  Use what you learned in the previous tutorial to figure out how to change the default parameters (like `n_estimators` and `learning_rate`) to get better results.\n",
    "- Then, fit the model to the training data in `X_train` and `y_train`.\n",
    "- Set `predictions_2` to the model's predictions for the validation data.  Recall that the validation features are stored in `X_valid`.\n",
    "- Finally, use the `mean_absolute_error()` function to calculate the mean absolute error (MAE) corresponding to the predictions on the validation set.  Recall that the labels for the validation data are stored in `y_valid`.\n",
    "\n",
    "In order for this step to be marked correct, your model in `my_model_2` must attain lower MAE than the model in `my_model_1`. "
   ]
  },
  {
   "cell_type": "code",
   "execution_count": 9,
   "id": "1875b45e",
   "metadata": {
    "execution": {
     "iopub.execute_input": "2025-03-19T13:48:41.038039Z",
     "iopub.status.busy": "2025-03-19T13:48:41.037719Z",
     "iopub.status.idle": "2025-03-19T13:48:41.562196Z",
     "shell.execute_reply": "2025-03-19T13:48:41.561478Z"
    },
    "papermill": {
     "duration": 0.531199,
     "end_time": "2025-03-19T13:48:41.563378",
     "exception": false,
     "start_time": "2025-03-19T13:48:41.032179",
     "status": "completed"
    },
    "tags": []
   },
   "outputs": [
    {
     "name": "stderr",
     "output_type": "stream",
     "text": [
      "/usr/local/lib/python3.10/dist-packages/xgboost/sklearn.py:889: UserWarning: `eval_metric` in `fit` method is deprecated for better compatibility with scikit-learn, use `eval_metric` in constructor or`set_params` instead.\n",
      "  warnings.warn(\n",
      "/usr/local/lib/python3.10/dist-packages/xgboost/sklearn.py:889: UserWarning: `early_stopping_rounds` in `fit` method is deprecated for better compatibility with scikit-learn, use `early_stopping_rounds` in constructor or`set_params` instead.\n",
      "  warnings.warn(\n"
     ]
    },
    {
     "name": "stdout",
     "output_type": "stream",
     "text": [
      "Mean Absolute Error: 17311.34819135274\n"
     ]
    },
    {
     "data": {
      "application/javascript": [
       "parent.postMessage({\"jupyterEvent\": \"custom.exercise_interaction\", \"data\": {\"outcomeType\": 1, \"valueTowardsCompletion\": 0.5, \"interactionType\": 1, \"questionType\": 2, \"questionId\": \"2_Model2\", \"learnToolsVersion\": \"0.3.4\", \"failureMessage\": \"\", \"exceptionClass\": \"\", \"trace\": \"\"}}, \"*\")"
      ],
      "text/plain": [
       "<IPython.core.display.Javascript object>"
      ]
     },
     "metadata": {},
     "output_type": "display_data"
    },
    {
     "data": {
      "text/markdown": [
       "<span style=\"color:#33cc33\">Correct</span>"
      ],
      "text/plain": [
       "Correct"
      ]
     },
     "metadata": {},
     "output_type": "display_data"
    }
   ],
   "source": [
    "# Define the model\n",
    "my_model_2 = XGBRegressor(n_estimators=1000, learning_rate=0.07)\n",
    "\n",
    "# Fit the model\n",
    "my_model_2.fit(X_train, y_train,\n",
    "              early_stopping_rounds=5,\n",
    "              eval_set=[(X_valid, y_valid)],\n",
    "              eval_metric='mae', \n",
    "              verbose=False)\n",
    "\n",
    "# Get predictions\n",
    "predictions_2 = my_model_2.predict(X_valid)\n",
    "\n",
    "# Calculate MAE\n",
    "mae_2 = mean_absolute_error(y_valid, predictions_2)\n",
    "\n",
    "# Uncomment to print MAE\n",
    "print(\"Mean Absolute Error:\" , mae_2)\n",
    "\n",
    "# Check your answer\n",
    "step_2.check()"
   ]
  },
  {
   "cell_type": "code",
   "execution_count": 10,
   "id": "e20ab49f",
   "metadata": {
    "execution": {
     "iopub.execute_input": "2025-03-19T13:48:41.574987Z",
     "iopub.status.busy": "2025-03-19T13:48:41.574566Z",
     "iopub.status.idle": "2025-03-19T13:48:41.578144Z",
     "shell.execute_reply": "2025-03-19T13:48:41.577229Z"
    },
    "papermill": {
     "duration": 0.011015,
     "end_time": "2025-03-19T13:48:41.579540",
     "exception": false,
     "start_time": "2025-03-19T13:48:41.568525",
     "status": "completed"
    },
    "tags": []
   },
   "outputs": [],
   "source": [
    "# Lines below will give you a hint or solution code\n",
    "#step_2.hint()\n",
    "#step_2.solution()"
   ]
  },
  {
   "cell_type": "markdown",
   "id": "a415e649",
   "metadata": {
    "papermill": {
     "duration": 0.004696,
     "end_time": "2025-03-19T13:48:41.589482",
     "exception": false,
     "start_time": "2025-03-19T13:48:41.584786",
     "status": "completed"
    },
    "tags": []
   },
   "source": [
    "# Step 3: Break the model\n",
    "\n",
    "In this step, you will create a model that performs worse than the original model in Step 1.  This will help you to develop your intuition for how to set parameters.  You might even find that you accidentally get better performance, which is ultimately a nice problem to have and a valuable learning experience!\n",
    "- Begin by setting `my_model_3` to an XGBoost model, using the [XGBRegressor](https://xgboost.readthedocs.io/en/latest/python/python_api.html#xgboost.XGBRegressor) class.  Use what you learned in the previous tutorial to figure out how to change the default parameters (like `n_estimators` and `learning_rate`) to design a model to get high MAE.\n",
    "- Then, fit the model to the training data in `X_train` and `y_train`.\n",
    "- Set `predictions_3` to the model's predictions for the validation data.  Recall that the validation features are stored in `X_valid`.\n",
    "- Finally, use the `mean_absolute_error()` function to calculate the mean absolute error (MAE) corresponding to the predictions on the validation set.  Recall that the labels for the validation data are stored in `y_valid`.\n",
    "\n",
    "In order for this step to be marked correct, your model in `my_model_3` must attain higher MAE than the model in `my_model_1`. "
   ]
  },
  {
   "cell_type": "code",
   "execution_count": 11,
   "id": "4ecf3aa8",
   "metadata": {
    "execution": {
     "iopub.execute_input": "2025-03-19T13:48:41.600657Z",
     "iopub.status.busy": "2025-03-19T13:48:41.600310Z",
     "iopub.status.idle": "2025-03-19T13:48:41.706246Z",
     "shell.execute_reply": "2025-03-19T13:48:41.705082Z"
    },
    "papermill": {
     "duration": 0.114454,
     "end_time": "2025-03-19T13:48:41.708898",
     "exception": false,
     "start_time": "2025-03-19T13:48:41.594444",
     "status": "completed"
    },
    "tags": []
   },
   "outputs": [
    {
     "name": "stdout",
     "output_type": "stream",
     "text": [
      "Mean Absolute Error: 32754.512514715327\n"
     ]
    },
    {
     "data": {
      "application/javascript": [
       "parent.postMessage({\"jupyterEvent\": \"custom.exercise_interaction\", \"data\": {\"outcomeType\": 1, \"valueTowardsCompletion\": 0.5, \"interactionType\": 1, \"questionType\": 2, \"questionId\": \"3_Model3\", \"learnToolsVersion\": \"0.3.4\", \"failureMessage\": \"\", \"exceptionClass\": \"\", \"trace\": \"\"}}, \"*\")"
      ],
      "text/plain": [
       "<IPython.core.display.Javascript object>"
      ]
     },
     "metadata": {},
     "output_type": "display_data"
    },
    {
     "data": {
      "text/markdown": [
       "<span style=\"color:#33cc33\">Correct</span>"
      ],
      "text/plain": [
       "Correct"
      ]
     },
     "metadata": {},
     "output_type": "display_data"
    }
   ],
   "source": [
    "# Define the model\n",
    "my_model_3 = XGBRegressor(n_estimators=3, learning_rate=1.5)\n",
    "\n",
    "# Fit the model\n",
    "my_model_3.fit(X_train, y_train)\n",
    "\n",
    "# Get predictions\n",
    "predictions_3 = my_model_3.predict(X_valid)\n",
    "\n",
    "# Calculate MAE\n",
    "mae_3 = mean_absolute_error(y_valid, predictions_3)\n",
    "\n",
    "# Uncomment to print MAE\n",
    "print(\"Mean Absolute Error:\" , mae_3)\n",
    "\n",
    "# Check your answer\n",
    "step_3.check()"
   ]
  },
  {
   "cell_type": "code",
   "execution_count": 12,
   "id": "223a7647",
   "metadata": {
    "execution": {
     "iopub.execute_input": "2025-03-19T13:48:41.720415Z",
     "iopub.status.busy": "2025-03-19T13:48:41.720134Z",
     "iopub.status.idle": "2025-03-19T13:48:41.723338Z",
     "shell.execute_reply": "2025-03-19T13:48:41.722544Z"
    },
    "papermill": {
     "duration": 0.010489,
     "end_time": "2025-03-19T13:48:41.724742",
     "exception": false,
     "start_time": "2025-03-19T13:48:41.714253",
     "status": "completed"
    },
    "tags": []
   },
   "outputs": [],
   "source": [
    "# Lines below will give you a hint or solution code\n",
    "#step_3.hint()\n",
    "#step_3.solution()"
   ]
  },
  {
   "cell_type": "markdown",
   "id": "d5b95d38",
   "metadata": {
    "papermill": {
     "duration": 0.005305,
     "end_time": "2025-03-19T13:48:41.735314",
     "exception": false,
     "start_time": "2025-03-19T13:48:41.730009",
     "status": "completed"
    },
    "tags": []
   },
   "source": [
    "# Keep going\n",
    "\n",
    "Continue to learn about **[data leakage](https://www.kaggle.com/alexisbcook/data-leakage)**.  This is an important issue for a data scientist to understand, and it has the potential to ruin your models in subtle and dangerous ways!"
   ]
  },
  {
   "cell_type": "markdown",
   "id": "45d0fd34",
   "metadata": {
    "papermill": {
     "duration": 0.00512,
     "end_time": "2025-03-19T13:48:41.745577",
     "exception": false,
     "start_time": "2025-03-19T13:48:41.740457",
     "status": "completed"
    },
    "tags": []
   },
   "source": [
    "---\n",
    "\n",
    "\n",
    "\n",
    "\n",
    "*Have questions or comments? Visit the [course discussion forum](https://www.kaggle.com/learn/intermediate-machine-learning/discussion) to chat with other learners.*"
   ]
  }
 ],
 "metadata": {
  "kaggle": {
   "accelerator": "none",
   "dataSources": [
    {
     "databundleVersionId": 111096,
     "sourceId": 10211,
     "sourceType": "competition"
    }
   ],
   "isGpuEnabled": false,
   "isInternetEnabled": false,
   "language": "python",
   "sourceType": "notebook"
  },
  "kernelspec": {
   "display_name": "Python 3",
   "language": "python",
   "name": "python3"
  },
  "language_info": {
   "codemirror_mode": {
    "name": "ipython",
    "version": 3
   },
   "file_extension": ".py",
   "mimetype": "text/x-python",
   "name": "python",
   "nbconvert_exporter": "python",
   "pygments_lexer": "ipython3",
   "version": "3.10.12"
  },
  "papermill": {
   "default_parameters": {},
   "duration": 7.718684,
   "end_time": "2025-03-19T13:48:42.369055",
   "environment_variables": {},
   "exception": null,
   "input_path": "__notebook__.ipynb",
   "output_path": "__notebook__.ipynb",
   "parameters": {},
   "start_time": "2025-03-19T13:48:34.650371",
   "version": "2.6.0"
  }
 },
 "nbformat": 4,
 "nbformat_minor": 5
}
